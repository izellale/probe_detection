{
 "cells": [
  {
   "cell_type": "markdown",
   "metadata": {},
   "source": [
    "# Imports"
   ]
  },
  {
   "cell_type": "code",
   "execution_count": 12,
   "metadata": {},
   "outputs": [],
   "source": [
    "import os\n",
    "import torch\n",
    "from ultralytics import YOLO"
   ]
  },
  {
   "cell_type": "markdown",
   "metadata": {},
   "source": [
    "# 1. YOLO v11 model"
   ]
  },
  {
   "cell_type": "markdown",
   "metadata": {},
   "source": [
    "### 1.1 Configuration"
   ]
  },
  {
   "cell_type": "code",
   "execution_count": 13,
   "metadata": {},
   "outputs": [],
   "source": [
    "device = 0 if torch.cuda.is_available() else 'cpu'\n",
    "configuration_file = os.path.join(os.path.dirname(os.getcwd()), 'data', 'yalo_configuration.yaml')\n",
    "models_folder = os.path.join(os.path.dirname(os.getcwd()), 'models', 'yalo')"
   ]
  },
  {
   "cell_type": "markdown",
   "metadata": {},
   "source": [
    "### 1.1 Training model v11s from scratch"
   ]
  },
  {
   "cell_type": "code",
   "execution_count": 14,
   "metadata": {},
   "outputs": [],
   "source": [
    "# model_v11s = YOLO(\"yolo11s.pt\")  # load the medium model"
   ]
  },
  {
   "cell_type": "code",
   "execution_count": 15,
   "metadata": {},
   "outputs": [],
   "source": [
    "# Train the model\n",
    "# results_v11s = model_v11s.train(\n",
    "#     data=configuration_file,\n",
    "#     epochs=200,\n",
    "#     batch=32,\n",
    "#     device=device, \n",
    "#     pretrained=False,\n",
    "#     project= models_folder,\n",
    "#     name='v11s_scratch_200epochs',\n",
    "    \n",
    "#     translate= 0.2, # Translation of image\n",
    "#     flipud= 0.5, # flip the image upside down\n",
    "#     mosaic=0.3 # Combine 4 training images\n",
    "# )"
   ]
  },
  {
   "cell_type": "markdown",
   "metadata": {},
   "source": [
    "### Evaluation "
   ]
  },
  {
   "cell_type": "code",
   "execution_count": 16,
   "metadata": {},
   "outputs": [],
   "source": [
    "model_v11s = YOLO(os.path.join(models_folder, 'v11s_scratch_200epochs', 'weights', 'best.pt'))"
   ]
  },
  {
   "cell_type": "code",
   "execution_count": 17,
   "metadata": {},
   "outputs": [
    {
     "name": "stdout",
     "output_type": "stream",
     "text": [
      "Ultralytics 8.3.56 🚀 Python-3.10.16 torch-2.5.1+cu124 CUDA:0 (Tesla T4, 15102MiB)\n",
      "YOLO11s summary (fused): 238 layers, 9,413,187 parameters, 0 gradients, 21.3 GFLOPs\n"
     ]
    },
    {
     "name": "stderr",
     "output_type": "stream",
     "text": [
      "\u001b[34m\u001b[1mval: \u001b[0mScanning /home/ec2-user/probe_detection/data/yalo/val/labels.cache... 77 images, 0 backgrounds, 0 corrupt: 100%|██████████| 77/77 [00:00<?, ?it/s]\n",
      "                 Class     Images  Instances      Box(P          R      mAP50  mAP50-95): 100%|██████████| 5/5 [00:01<00:00,  4.66it/s]\n"
     ]
    },
    {
     "name": "stdout",
     "output_type": "stream",
     "text": [
      "                   all         77         77          1      0.951      0.994      0.917\n",
      "Speed: 2.0ms preprocess, 5.2ms inference, 0.0ms loss, 1.3ms postprocess per image\n",
      "Results saved to \u001b[1m/home/ec2-user/probe_detection/models/yalo/v11s_scratch_200epochs_val\u001b[0m\n"
     ]
    }
   ],
   "source": [
    "metrics_v11s = model_v11s.val(\n",
    "    project=models_folder,\n",
    "    name='v11s_scratch_200epochs_val',\n",
    "    device=device\n",
    ")"
   ]
  },
  {
   "cell_type": "code",
   "execution_count": 18,
   "metadata": {},
   "outputs": [
    {
     "name": "stdout",
     "output_type": "stream",
     "text": [
      "0.9173761729203388\n",
      "0.9938666857443229\n",
      "0.9780676569406319\n",
      "[    0.91738]\n"
     ]
    }
   ],
   "source": [
    "print(metrics_v11s.box.map)  # mAP50-95\n",
    "print(metrics_v11s.box.map50)  # mAP50\n",
    "print(metrics_v11s.box.map75)  # mAP75\n",
    "print(metrics_v11s.box.maps)  # list of mAP50-95 for each category"
   ]
  },
  {
   "cell_type": "markdown",
   "metadata": {},
   "source": [
    "### 1.2 Training pretrained model v11 large "
   ]
  },
  {
   "cell_type": "code",
   "execution_count": 19,
   "metadata": {},
   "outputs": [],
   "source": [
    "# model_v11l = YOLO(\"yolo11l.pt\")  # load the large pretrained model"
   ]
  },
  {
   "cell_type": "code",
   "execution_count": 20,
   "metadata": {},
   "outputs": [],
   "source": [
    "# Train the model\n",
    "# results_v11l = model_v11l.train(\n",
    "#     data=configuration_file,\n",
    "#     epochs=200,\n",
    "#     batch=16,\n",
    "#     device=device, \n",
    "#     pretrained=True,\n",
    "#     project= models_folder,\n",
    "#     name='v11l_pretrained_200epochs',\n",
    "    \n",
    "#     translate= 0.2, # Translation of image\n",
    "#     flipud= 0.5, # flip the image upside down\n",
    "#     mosaic=0.3 # Combine 4 training images\n",
    "# )"
   ]
  },
  {
   "cell_type": "markdown",
   "metadata": {},
   "source": [
    "### Evaluation of large model"
   ]
  },
  {
   "cell_type": "code",
   "execution_count": 21,
   "metadata": {},
   "outputs": [],
   "source": [
    "model_v11l = YOLO(os.path.join(models_folder, 'v11l_pretrained_200epochs', 'weights', 'best.pt'))"
   ]
  },
  {
   "cell_type": "code",
   "execution_count": 22,
   "metadata": {},
   "outputs": [
    {
     "name": "stdout",
     "output_type": "stream",
     "text": [
      "Ultralytics 8.3.56 🚀 Python-3.10.16 torch-2.5.1+cu124 CUDA:0 (Tesla T4, 15102MiB)\n",
      "YOLO11l summary (fused): 464 layers, 25,280,083 parameters, 0 gradients, 86.6 GFLOPs\n"
     ]
    },
    {
     "name": "stderr",
     "output_type": "stream",
     "text": [
      "\u001b[34m\u001b[1mval: \u001b[0mScanning /home/ec2-user/probe_detection/data/yalo/val/labels.cache... 77 images, 0 backgrounds, 0 corrupt: 100%|██████████| 77/77 [00:00<?, ?it/s]\n",
      "                 Class     Images  Instances      Box(P          R      mAP50  mAP50-95): 100%|██████████| 5/5 [00:01<00:00,  2.57it/s]\n"
     ]
    },
    {
     "name": "stdout",
     "output_type": "stream",
     "text": [
      "                   all         77         77      0.972      0.915      0.966      0.855\n",
      "Speed: 2.1ms preprocess, 17.2ms inference, 0.0ms loss, 0.6ms postprocess per image\n",
      "Results saved to \u001b[1m/home/ec2-user/probe_detection/models/yalo/v11l_pretrained_200epochs_val\u001b[0m\n"
     ]
    }
   ],
   "source": [
    "metrics_v11l = model_v11l.val(\n",
    "    project=models_folder,\n",
    "    name='v11l_pretrained_200epochs_val',\n",
    "    device=device\n",
    ")"
   ]
  },
  {
   "cell_type": "code",
   "execution_count": 23,
   "metadata": {},
   "outputs": [
    {
     "name": "stdout",
     "output_type": "stream",
     "text": [
      "0.855249021345734\n",
      "0.965999028370855\n",
      "0.9505193616525133\n",
      "[    0.85525]\n"
     ]
    }
   ],
   "source": [
    "print(metrics_v11l.box.map)  # mAP50-95\n",
    "print(metrics_v11l.box.map50)  # mAP50\n",
    "print(metrics_v11l.box.map75)  # mAP75\n",
    "print(metrics_v11l.box.maps)  # list of mAP50-95 for each category"
   ]
  }
 ],
 "metadata": {
  "kernelspec": {
   "display_name": "uptimize_pytorch_python310",
   "language": "python",
   "name": "python3"
  },
  "language_info": {
   "codemirror_mode": {
    "name": "ipython",
    "version": 3
   },
   "file_extension": ".py",
   "mimetype": "text/x-python",
   "name": "python",
   "nbconvert_exporter": "python",
   "pygments_lexer": "ipython3",
   "version": "3.10.16"
  },
  "orig_nbformat": 4
 },
 "nbformat": 4,
 "nbformat_minor": 2
}
